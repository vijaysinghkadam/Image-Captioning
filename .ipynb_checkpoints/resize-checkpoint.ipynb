{
 "cells": [
  {
   "cell_type": "code",
   "execution_count": 1,
   "metadata": {},
   "outputs": [],
   "source": [
    "from PIL import Image\n",
    "import os\n",
    "import argparse"
   ]
  },
  {
   "cell_type": "code",
   "execution_count": 2,
   "metadata": {},
   "outputs": [],
   "source": [
    "def resize_image(image,size):\n",
    "    return image.resize(size,Image.BICUBIC)"
   ]
  },
  {
   "cell_type": "code",
   "execution_count": 3,
   "metadata": {},
   "outputs": [],
   "source": [
    "def resize_images(input_dir , output_dir , size):\n",
    "    if not os.path.exists(output_dir):\n",
    "        os.makedirs(output_dir)\n",
    "        \n",
    "    images = os.listdir(input_dir)\n",
    "    num_images = len(images)\n",
    "    for i, image in enumerate(images):\n",
    "        with open(os.path.join(input_dir,image),'r+b') as f:\n",
    "            with Image.open(f) as img:\n",
    "                img = resize_image(img,size)\n",
    "                img.save(os.path.join(output_dir,image),img.format)\n",
    "        if (i+1)%1000==0:\n",
    "            print('{}/{} images resized and saved into {} '.format(i+1,num_images,output_dir))"
   ]
  },
  {
   "cell_type": "code",
   "execution_count": 4,
   "metadata": {},
   "outputs": [],
   "source": [
    "def main(args):\n",
    "    input_dir = args.input_dir\n",
    "    output_dir = args.output_dir\n",
    "    image_size = [args.image_size,args.image_size]\n",
    "    resize_images(input_dir,output_dir,image_size)"
   ]
  },
  {
   "cell_type": "code",
   "execution_count": 5,
   "metadata": {},
   "outputs": [
    {
     "name": "stdout",
     "output_type": "stream",
     "text": [
      "1000/82783 images resized and saved into data/processed_images/ \n",
      "2000/82783 images resized and saved into data/processed_images/ \n",
      "3000/82783 images resized and saved into data/processed_images/ \n",
      "4000/82783 images resized and saved into data/processed_images/ \n",
      "5000/82783 images resized and saved into data/processed_images/ \n",
      "6000/82783 images resized and saved into data/processed_images/ \n",
      "7000/82783 images resized and saved into data/processed_images/ \n",
      "8000/82783 images resized and saved into data/processed_images/ \n",
      "9000/82783 images resized and saved into data/processed_images/ \n",
      "10000/82783 images resized and saved into data/processed_images/ \n",
      "11000/82783 images resized and saved into data/processed_images/ \n",
      "12000/82783 images resized and saved into data/processed_images/ \n",
      "13000/82783 images resized and saved into data/processed_images/ \n",
      "14000/82783 images resized and saved into data/processed_images/ \n",
      "15000/82783 images resized and saved into data/processed_images/ \n",
      "16000/82783 images resized and saved into data/processed_images/ \n",
      "17000/82783 images resized and saved into data/processed_images/ \n",
      "18000/82783 images resized and saved into data/processed_images/ \n",
      "19000/82783 images resized and saved into data/processed_images/ \n",
      "20000/82783 images resized and saved into data/processed_images/ \n",
      "21000/82783 images resized and saved into data/processed_images/ \n",
      "22000/82783 images resized and saved into data/processed_images/ \n",
      "23000/82783 images resized and saved into data/processed_images/ \n",
      "24000/82783 images resized and saved into data/processed_images/ \n",
      "25000/82783 images resized and saved into data/processed_images/ \n",
      "26000/82783 images resized and saved into data/processed_images/ \n",
      "27000/82783 images resized and saved into data/processed_images/ \n",
      "28000/82783 images resized and saved into data/processed_images/ \n",
      "29000/82783 images resized and saved into data/processed_images/ \n",
      "30000/82783 images resized and saved into data/processed_images/ \n",
      "31000/82783 images resized and saved into data/processed_images/ \n",
      "32000/82783 images resized and saved into data/processed_images/ \n",
      "33000/82783 images resized and saved into data/processed_images/ \n",
      "34000/82783 images resized and saved into data/processed_images/ \n",
      "35000/82783 images resized and saved into data/processed_images/ \n",
      "36000/82783 images resized and saved into data/processed_images/ \n",
      "37000/82783 images resized and saved into data/processed_images/ \n",
      "38000/82783 images resized and saved into data/processed_images/ \n",
      "39000/82783 images resized and saved into data/processed_images/ \n",
      "40000/82783 images resized and saved into data/processed_images/ \n",
      "41000/82783 images resized and saved into data/processed_images/ \n",
      "42000/82783 images resized and saved into data/processed_images/ \n",
      "43000/82783 images resized and saved into data/processed_images/ \n",
      "44000/82783 images resized and saved into data/processed_images/ \n",
      "45000/82783 images resized and saved into data/processed_images/ \n",
      "46000/82783 images resized and saved into data/processed_images/ \n",
      "47000/82783 images resized and saved into data/processed_images/ \n",
      "48000/82783 images resized and saved into data/processed_images/ \n",
      "49000/82783 images resized and saved into data/processed_images/ \n",
      "50000/82783 images resized and saved into data/processed_images/ \n",
      "51000/82783 images resized and saved into data/processed_images/ \n",
      "52000/82783 images resized and saved into data/processed_images/ \n",
      "53000/82783 images resized and saved into data/processed_images/ \n",
      "54000/82783 images resized and saved into data/processed_images/ \n",
      "55000/82783 images resized and saved into data/processed_images/ \n",
      "56000/82783 images resized and saved into data/processed_images/ \n",
      "57000/82783 images resized and saved into data/processed_images/ \n",
      "58000/82783 images resized and saved into data/processed_images/ \n",
      "59000/82783 images resized and saved into data/processed_images/ \n",
      "60000/82783 images resized and saved into data/processed_images/ \n",
      "61000/82783 images resized and saved into data/processed_images/ \n",
      "62000/82783 images resized and saved into data/processed_images/ \n",
      "63000/82783 images resized and saved into data/processed_images/ \n",
      "64000/82783 images resized and saved into data/processed_images/ \n",
      "65000/82783 images resized and saved into data/processed_images/ \n",
      "66000/82783 images resized and saved into data/processed_images/ \n",
      "67000/82783 images resized and saved into data/processed_images/ \n",
      "68000/82783 images resized and saved into data/processed_images/ \n",
      "69000/82783 images resized and saved into data/processed_images/ \n",
      "70000/82783 images resized and saved into data/processed_images/ \n",
      "71000/82783 images resized and saved into data/processed_images/ \n",
      "72000/82783 images resized and saved into data/processed_images/ \n",
      "73000/82783 images resized and saved into data/processed_images/ \n",
      "74000/82783 images resized and saved into data/processed_images/ \n",
      "75000/82783 images resized and saved into data/processed_images/ \n",
      "76000/82783 images resized and saved into data/processed_images/ \n",
      "77000/82783 images resized and saved into data/processed_images/ \n",
      "78000/82783 images resized and saved into data/processed_images/ \n",
      "79000/82783 images resized and saved into data/processed_images/ \n",
      "80000/82783 images resized and saved into data/processed_images/ \n",
      "81000/82783 images resized and saved into data/processed_images/ \n",
      "82000/82783 images resized and saved into data/processed_images/ \n"
     ]
    }
   ],
   "source": [
    "if __name__ == '__main__':\n",
    "    parser = argparse.ArgumentParser()\n",
    "    parser.add_argument('--input_dir',type=str,\n",
    "                       default='data/train2014/',\n",
    "                       help='this is directory of images')\n",
    "    parser.add_argument('--output_dir',type=str,\n",
    "                       default='data/processed_images/',\n",
    "                       help='this is directory for output of processed images')\n",
    "    parser.add_argument('--image_size',type=int,\n",
    "                       default = 256, help = 'size for image after processing')\n",
    "    args = parser.parse_args(args=[])\n",
    "    main(args)"
   ]
  },
  {
   "cell_type": "code",
   "execution_count": null,
   "metadata": {},
   "outputs": [],
   "source": []
  }
 ],
 "metadata": {
  "kernelspec": {
   "display_name": "Python 3",
   "language": "python",
   "name": "python3"
  },
  "language_info": {
   "codemirror_mode": {
    "name": "ipython",
    "version": 3
   },
   "file_extension": ".py",
   "mimetype": "text/x-python",
   "name": "python",
   "nbconvert_exporter": "python",
   "pygments_lexer": "ipython3",
   "version": "3.6.8"
  }
 },
 "nbformat": 4,
 "nbformat_minor": 2
}
